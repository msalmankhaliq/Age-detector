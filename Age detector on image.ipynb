{
 "cells": [
  {
   "cell_type": "code",
   "execution_count": 1,
   "metadata": {},
   "outputs": [],
   "source": [
    "# import the necessary packages\n",
    "import numpy as np\n",
    "import cv2\n",
    "import os"
   ]
  },
  {
   "cell_type": "code",
   "execution_count": 2,
   "metadata": {},
   "outputs": [],
   "source": [
    "#load the files and directories\n",
    "face = os.path.join(\"face_detector\")\n",
    "age = os.path.join(\"age_detector\")\n"
   ]
  },
  {
   "cell_type": "code",
   "execution_count": 3,
   "metadata": {},
   "outputs": [],
   "source": [
    "# define the list of age buckets our age detector will predict\n",
    "AGE_BUCKETS = [\"(0-2)\", \"(4-6)\", \"(8-12)\", \"(15-20)\", \"(25-32)\",\"(38-43)\", \"(48-53)\", \"(60-100)\"]"
   ]
  },
  {
   "cell_type": "code",
   "execution_count": 4,
   "metadata": {},
   "outputs": [],
   "source": [
    "# load our serialized face detector model from disk\n",
    "prototxtPath = os.path.sep.join([face, \"deploy.prototxt\"])\n",
    "weightsPath = os.path.sep.join([face,\n",
    "\t\"res10_300x300_ssd_iter_140000.caffemodel\"])\n",
    "faceNet = cv2.dnn.readNet(prototxtPath, weightsPath)"
   ]
  },
  {
   "cell_type": "code",
   "execution_count": 5,
   "metadata": {},
   "outputs": [],
   "source": [
    "# load our serialized age detector model from disk\n",
    "prototxtPath = os.path.sep.join([age, \"age_deploy.prototxt\"])\n",
    "weightsPath = os.path.sep.join([age, \"age_net.caffemodel\"])\n",
    "ageNet = cv2.dnn.readNet(prototxtPath, weightsPath)"
   ]
  },
  {
   "cell_type": "code",
   "execution_count": 12,
   "metadata": {},
   "outputs": [],
   "source": [
    "# load the input image and construct an input blob for the image\n",
    "image = cv2.imread(\"images/neil_patrick_harris.png\")\n",
    "(h, w) = image.shape[:2]\n",
    "blob = cv2.dnn.blobFromImage(image, 1.0, (300,300), (104.0, 177.0, 123.0))"
   ]
  },
  {
   "cell_type": "code",
   "execution_count": 13,
   "metadata": {},
   "outputs": [],
   "source": [
    "# pass the blob through the network and obtain the face detections\n",
    "faceNet.setInput(blob)\n",
    "detections = faceNet.forward()"
   ]
  },
  {
   "cell_type": "code",
   "execution_count": 14,
   "metadata": {},
   "outputs": [
    {
     "name": "stdout",
     "output_type": "stream",
     "text": [
      "[INFO] (8-12): 54.28%\n"
     ]
    },
    {
     "data": {
      "text/plain": [
       "27"
      ]
     },
     "execution_count": 14,
     "metadata": {},
     "output_type": "execute_result"
    }
   ],
   "source": [
    "# loop over the detections\n",
    "conf=0.5\n",
    "for i in range(0, detections.shape[2]):\n",
    "     #extract the confidence (i.e., probability) associated with the prediction\n",
    "        confidence = detections[0,0,i,2]\n",
    "        # filter out weak detections by ensuring the confidence is greater than the minimum confidence\n",
    "        if confidence>conf:\n",
    "            # compute the (x, y)-coordinates of the bounding box for the object\n",
    "            box = detections[0,0,i,3:7] * np.array([w,h,w,h])\n",
    "            (startX,startY,endX,endY) = box.astype(\"int\")\n",
    "            \n",
    "            # extract the ROI of the face and then construct a blob from *only* the face ROI\n",
    "            f = image[startY:endY, startX:endX]\n",
    "            faceblob = cv2.dnn.blobFromImage(f , 1.0, (227, 227), (78.4263377603, 87.7689143744, 114.895847746), swapRB=False)\n",
    "            \n",
    "            ageNet.setInput(faceblob)\n",
    "            preds = ageNet.forward()\n",
    "            i = preds[0].argmax()\n",
    "            a = AGE_BUCKETS[i]\n",
    "            ageConfidence = preds[0][i]\n",
    "            \n",
    "            # display the predicted age to our terminal\n",
    "            text = \"{}: {:.2f}%\".format(a, ageConfidence * 100)\n",
    "            print(\"[INFO] {}\".format(text))\n",
    "            \n",
    "            # draw the bounding box of the face along with the associated# predicted age\n",
    "            y = startY - 10 if startY - 10 > 10 else startY + 10\n",
    "            cv2.rectangle(image, (startX, startY), (endX, endY),\n",
    "                          (0, 0, 255), 2)\n",
    "            cv2.putText(image, text, (startX, y),\n",
    "                        cv2.FONT_HERSHEY_SIMPLEX, 0.45, (0, 0, 255), 2)\n",
    "            \n",
    "# display the output image\n",
    "cv2.imshow(\"Image\", image)\n",
    "cv2.waitKey(0)            "
   ]
  },
  {
   "cell_type": "code",
   "execution_count": null,
   "metadata": {},
   "outputs": [],
   "source": []
  }
 ],
 "metadata": {
  "kernelspec": {
   "display_name": "Python 3",
   "language": "python",
   "name": "python3"
  },
  "language_info": {
   "codemirror_mode": {
    "name": "ipython",
    "version": 3
   },
   "file_extension": ".py",
   "mimetype": "text/x-python",
   "name": "python",
   "nbconvert_exporter": "python",
   "pygments_lexer": "ipython3",
   "version": "3.7.7"
  }
 },
 "nbformat": 4,
 "nbformat_minor": 4
}
